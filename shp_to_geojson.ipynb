{
 "cells": [
  {
   "cell_type": "markdown",
   "metadata": {},
   "source": [
    "# shp_to_geojson.ipynb\n",
    "This reads a shapefile then saves it as a geojson.\n",
    "\n",
    "From https://stackoverflow.com/questions/43119040/shapefile-into-geojson-conversion-python-3\n",
    "\n",
    "Source for NC shapefile: https://www.ncleg.gov/Redistricting/\n",
    "Congressional district plan ordered by the NC Courts on February 23, 2022\n",
    "\n",
    "\n",
    "*Tommy Ratliff, May 27, 2022* "
   ]
  },
  {
   "cell_type": "code",
   "execution_count": 1,
   "metadata": {},
   "outputs": [
    {
     "ename": "ModuleNotFoundError",
     "evalue": "No module named 'geopandas'",
     "output_type": "error",
     "traceback": [
      "\u001b[0;31m---------------------------------------------------------------------------\u001b[0m",
      "\u001b[0;31mModuleNotFoundError\u001b[0m                       Traceback (most recent call last)",
      "Cell \u001b[0;32mIn[1], line 1\u001b[0m\n\u001b[0;32m----> 1\u001b[0m \u001b[38;5;28;01mimport\u001b[39;00m \u001b[38;5;21;01mgeopandas\u001b[39;00m\n\u001b[1;32m      3\u001b[0m \u001b[38;5;66;03m#shp_file = geopandas.read_file('./2022_Interim Congressional_Shapefile/Interim Congressional.shp')\u001b[39;00m\n\u001b[1;32m      4\u001b[0m \u001b[38;5;66;03m#shp_file.to_file('NC_2022_02_23_Interim_Congressional.geojson', driver='GeoJSON')\u001b[39;00m\n\u001b[1;32m      6\u001b[0m shp_file \u001b[38;5;241m=\u001b[39m geopandas\u001b[38;5;241m.\u001b[39mread_file(\u001b[38;5;124m'\u001b[39m\u001b[38;5;124m./Data/seeds/ND/ND.shp\u001b[39m\u001b[38;5;124m'\u001b[39m)\n",
      "\u001b[0;31mModuleNotFoundError\u001b[0m: No module named 'geopandas'"
     ]
    }
   ],
   "source": [
    "import geopandas\n",
    "\n",
    "#shp_file = geopandas.read_file('./2022_Interim Congressional_Shapefile/Interim Congressional.shp')\n",
    "#shp_file.to_file('NC_2022_02_23_Interim_Congressional.geojson', driver='GeoJSON')\n",
    "\n",
    "shp_file = geopandas.read_file('./Data/seeds/ND/ND.shp')\n",
    "shp_file.to_file('ND.geojson', driver='GeoJSON')\n"
   ]
  },
  {
   "cell_type": "markdown",
   "metadata": {},
   "source": []
  }
 ],
 "metadata": {
  "interpreter": {
   "hash": "4d9c6321ed4fa7cdc6c86cb01b4ad8c548dcdf8855ab203cd37971817149a604"
  },
  "kernelspec": {
   "display_name": "Python 3 (ipykernel)",
   "language": "python",
   "name": "python3"
  },
  "language_info": {
   "codemirror_mode": {
    "name": "ipython",
    "version": 3
   },
   "file_extension": ".py",
   "mimetype": "text/x-python",
   "name": "python",
   "nbconvert_exporter": "python",
   "pygments_lexer": "ipython3",
   "version": "3.11.3"
  }
 },
 "nbformat": 4,
 "nbformat_minor": 2
}
